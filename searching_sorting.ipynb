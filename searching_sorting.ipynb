{
 "cells": [
  {
   "cell_type": "code",
   "execution_count": 1,
   "metadata": {},
   "outputs": [
    {
     "name": "stdout",
     "output_type": "stream",
     "text": [
      "Element is present at index 1\n"
     ]
    }
   ],
   "source": [
    "#Q1.Implement Binary Search\n",
    "\n",
    "def binarySearch(array, x, low, high):\n",
    "\n",
    "    # Repeat until the pointers low and high meet each other\n",
    "    while low <= high:\n",
    "\n",
    "        mid = low + (high - low)//2\n",
    "\n",
    "        if array[mid] == x:\n",
    "            return mid\n",
    "\n",
    "        elif array[mid] < x:\n",
    "            low = mid + 1\n",
    "\n",
    "        else:\n",
    "            high = mid - 1\n",
    "\n",
    "    return -1\n",
    "\n",
    "\n",
    "array = [3, 4, 5, 6, 7, 8, 9]\n",
    "x = 4\n",
    "\n",
    "result = binarySearch(array, x, 0, len(array)-1)\n",
    "\n",
    "if result != -1:\n",
    "    print(\"Element is present at index \" + str(result))\n",
    "else:\n",
    "    print(\"Not found\")"
   ]
  },
  {
   "cell_type": "code",
   "execution_count": 2,
   "metadata": {},
   "outputs": [
    {
     "name": "stdout",
     "output_type": "stream",
     "text": [
      "Sorted array is: \n",
      "1 5 6 9 10 12 \n"
     ]
    }
   ],
   "source": [
    "#Q2.Implement Merge Sort\n",
    "\n",
    "def mergeSort(array):\n",
    "    if len(array) > 1:\n",
    "\n",
    "        #  r is the point where the array is divided into two subarrays\n",
    "        r = len(array)//2\n",
    "        L = array[:r]\n",
    "        M = array[r:]\n",
    "\n",
    "        # Sort the two halves\n",
    "        mergeSort(L)\n",
    "        mergeSort(M)\n",
    "\n",
    "        i = j = k = 0\n",
    "\n",
    "        # Until we reach either end of either L or M, pick larger among\n",
    "        # elements L and M and place them in the correct position at A[p..r]\n",
    "        while i < len(L) and j < len(M):\n",
    "            if L[i] < M[j]:\n",
    "                array[k] = L[i]\n",
    "                i += 1\n",
    "            else:\n",
    "                array[k] = M[j]\n",
    "                j += 1\n",
    "            k += 1\n",
    "\n",
    "        # When we run out of elements in either L or M,\n",
    "        # pick up the remaining elements and put in A[p..r]\n",
    "        while i < len(L):\n",
    "            array[k] = L[i]\n",
    "            i += 1\n",
    "            k += 1\n",
    "\n",
    "        while j < len(M):\n",
    "            array[k] = M[j]\n",
    "            j += 1\n",
    "            k += 1\n",
    "\n",
    "\n",
    "# Print the array\n",
    "def printList(array):\n",
    "    for i in range(len(array)):\n",
    "        print(array[i], end=\" \")\n",
    "    print()\n",
    "\n",
    "\n",
    "# Driver program\n",
    "if __name__ == '__main__':\n",
    "    array = [6, 5, 12, 10, 9, 1]\n",
    "\n",
    "    mergeSort(array)\n",
    "\n",
    "    print(\"Sorted array is: \")\n",
    "    printList(array)"
   ]
  },
  {
   "cell_type": "code",
   "execution_count": 3,
   "metadata": {},
   "outputs": [
    {
     "name": "stdout",
     "output_type": "stream",
     "text": [
      "Unsorted Array\n",
      "[8, 7, 2, 1, 0, 9, 6]\n",
      "Sorted Array in Ascending Order:\n",
      "[0, 1, 2, 6, 7, 8, 9]\n"
     ]
    }
   ],
   "source": [
    "#Q3.Implement Quick Sort\n",
    "\n",
    "def partition(array, low, high):\n",
    "\n",
    "  # choose the rightmost element as pivot\n",
    "  pivot = array[high]\n",
    "\n",
    "  # pointer for greater element\n",
    "  i = low - 1\n",
    "\n",
    "  # traverse through all elements\n",
    "  # compare each element with pivot\n",
    "  for j in range(low, high):\n",
    "    if array[j] <= pivot:\n",
    "      # if element smaller than pivot is found\n",
    "      # swap it with the greater element pointed by i\n",
    "      i = i + 1\n",
    "\n",
    "      # swapping element at i with element at j\n",
    "      (array[i], array[j]) = (array[j], array[i])\n",
    "\n",
    "  # swap the pivot element with the greater element specified by i\n",
    "  (array[i + 1], array[high]) = (array[high], array[i + 1])\n",
    "\n",
    "  # return the position from where partition is done\n",
    "  return i + 1\n",
    "\n",
    "# function to perform quicksort\n",
    "def quickSort(array, low, high):\n",
    "  if low < high:\n",
    "\n",
    "    # find pivot element such that\n",
    "    # element smaller than pivot are on the left\n",
    "    # element greater than pivot are on the right\n",
    "    pi = partition(array, low, high)\n",
    "\n",
    "    # recursive call on the left of pivot\n",
    "    quickSort(array, low, pi - 1)\n",
    "\n",
    "    # recursive call on the right of pivot\n",
    "    quickSort(array, pi + 1, high)\n",
    "\n",
    "\n",
    "data = [8, 7, 2, 1, 0, 9, 6]\n",
    "print(\"Unsorted Array\")\n",
    "print(data)\n",
    "\n",
    "size = len(data)\n",
    "\n",
    "quickSort(data, 0, size - 1)\n",
    "\n",
    "print('Sorted Array in Ascending Order:')\n",
    "print(data)\n",
    "\n"
   ]
  },
  {
   "cell_type": "code",
   "execution_count": 4,
   "metadata": {},
   "outputs": [
    {
     "name": "stdout",
     "output_type": "stream",
     "text": [
      "Sorted Array in Ascending Order:\n",
      "[1, 3, 4, 5, 9]\n"
     ]
    }
   ],
   "source": [
    "#Q4.Implement Insertion Sort\n",
    "\n",
    "def insertionSort(array):\n",
    "\n",
    "    for step in range(1, len(array)):\n",
    "        key = array[step]\n",
    "        j = step - 1\n",
    "        \n",
    "        # Compare key with each element on the left of it until an element smaller than it is found\n",
    "        # For descending order, change key<array[j] to key>array[j].        \n",
    "        while j >= 0 and key < array[j]:\n",
    "            array[j + 1] = array[j]\n",
    "            j = j - 1\n",
    "        \n",
    "        # Place key at after the element just smaller than it.\n",
    "        array[j + 1] = key\n",
    "\n",
    "\n",
    "data = [9, 5, 1, 4, 3]\n",
    "insertionSort(data)\n",
    "print('Sorted Array in Ascending Order:')\n",
    "print(data)"
   ]
  },
  {
   "cell_type": "code",
   "execution_count": 5,
   "metadata": {},
   "outputs": [
    {
     "name": "stdout",
     "output_type": "stream",
     "text": [
      "['7', '11', '23', '33', '55']\n"
     ]
    }
   ],
   "source": [
    "#Q5.Write a program to sort list of strings (similar to that of dictionary)\n",
    "\n",
    "lst = ['23', '33', '11', '7', '55']\n",
    " \n",
    "# Using sort() function with key as int\n",
    "lst.sort(key = int)\n",
    " \n",
    "print(lst)"
   ]
  }
 ],
 "metadata": {
  "kernelspec": {
   "display_name": "Python 3",
   "language": "python",
   "name": "python3"
  },
  "language_info": {
   "codemirror_mode": {
    "name": "ipython",
    "version": 3
   },
   "file_extension": ".py",
   "mimetype": "text/x-python",
   "name": "python",
   "nbconvert_exporter": "python",
   "pygments_lexer": "ipython3",
   "version": "3.11.2"
  },
  "orig_nbformat": 4
 },
 "nbformat": 4,
 "nbformat_minor": 2
}
