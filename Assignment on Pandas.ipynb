{
 "cells": [
  {
   "cell_type": "markdown",
   "id": "4df57b21",
   "metadata": {},
   "source": [
    "### Import the necessary libraries"
   ]
  },
  {
   "cell_type": "code",
   "execution_count": null,
   "id": "bd0a3500",
   "metadata": {},
   "outputs": [],
   "source": [
    "import pandas as pd"
   ]
  },
  {
   "cell_type": "markdown",
   "id": "be6d1235",
   "metadata": {},
   "source": [
    "### Import the dataset from this(https://raw.githubusercontent.com/justmarkham/DAT8/master/data/u.user)."
   ]
  },
  {
   "cell_type": "code",
   "execution_count": null,
   "id": "fe359caf",
   "metadata": {},
   "outputs": [],
   "source": [
    "url = 'https://raw.githubusercontent.com/justmarkham/DAT8/master/data/u.user'"
   ]
  },
  {
   "cell_type": "markdown",
   "id": "7e0c76a9",
   "metadata": {},
   "source": [
    "### Assign it to a variable called users and use the 'user_id' as index"
   ]
  },
  {
   "cell_type": "code",
   "execution_count": 5,
   "id": "4b2cf4be",
   "metadata": {},
   "outputs": [
    {
     "name": "stdout",
     "output_type": "stream",
     "text": [
      "         age gender     occupation zip_code\n",
      "user_id                                    \n",
      "1         24      M     technician    85711\n",
      "2         53      F          other    94043\n",
      "3         23      M         writer    32067\n",
      "4         24      M     technician    43537\n",
      "5         33      F          other    15213\n",
      "...      ...    ...            ...      ...\n",
      "939       26      F        student    33319\n",
      "940       32      M  administrator    02215\n",
      "941       20      M        student    97229\n",
      "942       48      F      librarian    78209\n",
      "943       22      M        student    77841\n",
      "\n",
      "[943 rows x 4 columns]\n"
     ]
    }
   ],
   "source": [
    "import pandas as pd\n",
    "\n",
    "user = pd.read_csv('https://raw.githubusercontent.com/justmarkham/DAT8/master/data/u.user', sep = '|',index_col=\"user_id\")\n",
    "print(user)\n"
   ]
  },
  {
   "cell_type": "markdown",
   "id": "74034f05",
   "metadata": {},
   "source": [
    "### See the first 10 and last 10 entries"
   ]
  },
  {
   "cell_type": "code",
   "execution_count": 18,
   "id": "5cfd512f",
   "metadata": {},
   "outputs": [
    {
     "name": "stdout",
     "output_type": "stream",
     "text": [
      "First 10 entries\n",
      "         age gender     occupation zip_code\n",
      "user_id                                    \n",
      "1         24      M     technician    85711\n",
      "2         53      F          other    94043\n",
      "3         23      M         writer    32067\n",
      "4         24      M     technician    43537\n",
      "5         33      F          other    15213\n",
      "6         42      M      executive    98101\n",
      "7         57      M  administrator    91344\n",
      "8         36      M  administrator    05201\n",
      "9         29      M        student    01002\n",
      "10        53      M         lawyer    90703\n",
      "Last 10 entries\n",
      "         age gender     occupation zip_code\n",
      "user_id                                    \n",
      "934       61      M       engineer    22902\n",
      "935       42      M         doctor    66221\n",
      "936       24      M          other    32789\n",
      "937       48      M       educator    98072\n",
      "938       38      F     technician    55038\n",
      "939       26      F        student    33319\n",
      "940       32      M  administrator    02215\n",
      "941       20      M        student    97229\n",
      "942       48      F      librarian    78209\n",
      "943       22      M        student    77841\n"
     ]
    }
   ],
   "source": [
    "import pandas as pd\n",
    "\n",
    "user = pd.read_csv('https://raw.githubusercontent.com/justmarkham/DAT8/master/data/u.user', sep = '|',index_col=\"user_id\")\n",
    "\n",
    "print(\"First 10 entries\")\n",
    "print(user.head(10))\n",
    "\n",
    "print(\"Last 10 entries\")\n",
    "print(user.tail(10))"
   ]
  },
  {
   "cell_type": "markdown",
   "id": "a77d0448",
   "metadata": {},
   "source": [
    "### What is the number of observations in the dataset?"
   ]
  },
  {
   "cell_type": "code",
   "execution_count": 23,
   "id": "94dc6758",
   "metadata": {},
   "outputs": [
    {
     "name": "stdout",
     "output_type": "stream",
     "text": [
      "Number of Observations: 943\n"
     ]
    }
   ],
   "source": [
    "num_observations = len(user)\n",
    "print(\"Number of Observations:\", num_observations)"
   ]
  },
  {
   "cell_type": "markdown",
   "id": "71915313",
   "metadata": {},
   "source": [
    "### What is the number of columns in the dataset?"
   ]
  },
  {
   "cell_type": "code",
   "execution_count": 27,
   "id": "53952fe2",
   "metadata": {},
   "outputs": [
    {
     "name": "stdout",
     "output_type": "stream",
     "text": [
      "Number of Columns: 4\n"
     ]
    }
   ],
   "source": [
    "num_columns = len(user.columns)\n",
    "print(\"Number of Columns:\", num_columns)"
   ]
  },
  {
   "cell_type": "markdown",
   "id": "cbc5adcd",
   "metadata": {},
   "source": [
    "### Print the name of all the columns."
   ]
  },
  {
   "cell_type": "code",
   "execution_count": 28,
   "id": "6456a5ab",
   "metadata": {},
   "outputs": [
    {
     "name": "stdout",
     "output_type": "stream",
     "text": [
      "Index(['age', 'gender', 'occupation', 'zip_code'], dtype='object')\n"
     ]
    }
   ],
   "source": [
    "print(user.columns)"
   ]
  },
  {
   "cell_type": "markdown",
   "id": "933dfd4d",
   "metadata": {},
   "source": [
    "### How is the dataset indexed?"
   ]
  },
  {
   "cell_type": "code",
   "execution_count": 29,
   "id": "7f49411e",
   "metadata": {},
   "outputs": [
    {
     "name": "stdout",
     "output_type": "stream",
     "text": [
      "Index: Index([  1,   2,   3,   4,   5,   6,   7,   8,   9,  10,\n",
      "       ...\n",
      "       934, 935, 936, 937, 938, 939, 940, 941, 942, 943],\n",
      "      dtype='int64', name='user_id', length=943)\n"
     ]
    }
   ],
   "source": [
    "index = user.index\n",
    "print(\"Index:\", index)"
   ]
  },
  {
   "cell_type": "markdown",
   "id": "8f78ba9c",
   "metadata": {},
   "source": [
    "### What is the data type of each column?"
   ]
  },
  {
   "cell_type": "code",
   "execution_count": 35,
   "id": "7deacca4",
   "metadata": {},
   "outputs": [
    {
     "name": "stdout",
     "output_type": "stream",
     "text": [
      "<class 'pandas.core.frame.DataFrame'>\n",
      "Index: 943 entries, 1 to 943\n",
      "Data columns (total 4 columns):\n",
      " #   Column      Non-Null Count  Dtype \n",
      "---  ------      --------------  ----- \n",
      " 0   age         943 non-null    int64 \n",
      " 1   gender      943 non-null    object\n",
      " 2   occupation  943 non-null    object\n",
      " 3   zip_code    943 non-null    object\n",
      "dtypes: int64(1), object(3)\n",
      "memory usage: 36.8+ KB\n"
     ]
    }
   ],
   "source": [
    "user.info()"
   ]
  },
  {
   "cell_type": "markdown",
   "id": "6a3b657a",
   "metadata": {},
   "source": [
    "### Print only the occupation column"
   ]
  },
  {
   "cell_type": "code",
   "execution_count": 37,
   "id": "0e291481",
   "metadata": {},
   "outputs": [
    {
     "name": "stdout",
     "output_type": "stream",
     "text": [
      "user_id\n",
      "1         technician\n",
      "2              other\n",
      "3             writer\n",
      "4         technician\n",
      "5              other\n",
      "           ...      \n",
      "939          student\n",
      "940    administrator\n",
      "941          student\n",
      "942        librarian\n",
      "943          student\n",
      "Name: occupation, Length: 943, dtype: object\n"
     ]
    }
   ],
   "source": [
    "occupation_column = user.occupation\n",
    "print(occupation_column)"
   ]
  },
  {
   "cell_type": "markdown",
   "id": "8256329b",
   "metadata": {},
   "source": [
    "### How many different occupations are in this dataset?"
   ]
  },
  {
   "cell_type": "code",
   "execution_count": 54,
   "id": "718e51f1",
   "metadata": {},
   "outputs": [
    {
     "name": "stdout",
     "output_type": "stream",
     "text": [
      "21\n"
     ]
    }
   ],
   "source": [
    "occupations = user.occupation\n",
    "get_count = occupations.nunique()\n",
    "print(get_count)"
   ]
  },
  {
   "cell_type": "markdown",
   "id": "04141eb1",
   "metadata": {},
   "source": [
    "### What is the most frequent occupation?"
   ]
  },
  {
   "cell_type": "code",
   "execution_count": 83,
   "id": "c5a450df",
   "metadata": {},
   "outputs": [
    {
     "name": "stdout",
     "output_type": "stream",
     "text": [
      "['student']\n"
     ]
    }
   ],
   "source": [
    "most_frequent_occupation = user.occupation.mode().tolist()\n",
    "print(most_frequent_occupation)"
   ]
  },
  {
   "cell_type": "markdown",
   "id": "31cfcd8f",
   "metadata": {},
   "source": [
    "### DataFrame Info."
   ]
  },
  {
   "cell_type": "code",
   "execution_count": 58,
   "id": "3aaa9042",
   "metadata": {},
   "outputs": [
    {
     "name": "stdout",
     "output_type": "stream",
     "text": [
      "<class 'pandas.core.frame.DataFrame'>\n",
      "Index: 943 entries, 1 to 943\n",
      "Data columns (total 4 columns):\n",
      " #   Column      Non-Null Count  Dtype \n",
      "---  ------      --------------  ----- \n",
      " 0   age         943 non-null    int64 \n",
      " 1   gender      943 non-null    object\n",
      " 2   occupation  943 non-null    object\n",
      " 3   zip_code    943 non-null    object\n",
      "dtypes: int64(1), object(3)\n",
      "memory usage: 36.8+ KB\n"
     ]
    }
   ],
   "source": [
    "user.info()"
   ]
  },
  {
   "cell_type": "markdown",
   "id": "fab6c204",
   "metadata": {},
   "source": [
    "### Describe all the columns"
   ]
  },
  {
   "cell_type": "code",
   "execution_count": 59,
   "id": "97cab96e",
   "metadata": {},
   "outputs": [
    {
     "name": "stdout",
     "output_type": "stream",
     "text": [
      "Description of all columns:\n",
      "              age\n",
      "count  943.000000\n",
      "mean    34.051962\n",
      "std     12.192740\n",
      "min      7.000000\n",
      "25%     25.000000\n",
      "50%     31.000000\n",
      "75%     43.000000\n",
      "max     73.000000\n"
     ]
    }
   ],
   "source": [
    "columns_description = user.describe()\n",
    "print(\"Description of all columns:\")\n",
    "print(columns_description)"
   ]
  },
  {
   "cell_type": "markdown",
   "id": "484fd800",
   "metadata": {},
   "source": [
    "### Summarize only the occupation column"
   ]
  },
  {
   "cell_type": "code",
   "execution_count": 64,
   "id": "77e81377",
   "metadata": {},
   "outputs": [
    {
     "data": {
      "text/plain": [
       "occupation\n",
       "doctor             7\n",
       "homemaker          7\n",
       "none               9\n",
       "salesman          12\n",
       "lawyer            12\n",
       "retired           14\n",
       "healthcare        16\n",
       "entertainment     18\n",
       "marketing         26\n",
       "technician        27\n",
       "artist            28\n",
       "scientist         31\n",
       "executive         32\n",
       "writer            45\n",
       "librarian         51\n",
       "programmer        66\n",
       "engineer          67\n",
       "administrator     79\n",
       "educator          95\n",
       "other            105\n",
       "student          196\n",
       "Name: occupation, dtype: int64"
      ]
     },
     "execution_count": 64,
     "metadata": {},
     "output_type": "execute_result"
    }
   ],
   "source": [
    "user.groupby(\"occupation\")[\"occupation\"].count().sort_values()"
   ]
  },
  {
   "cell_type": "markdown",
   "id": "15c93701",
   "metadata": {},
   "source": [
    "### What is the mean age of users?"
   ]
  },
  {
   "cell_type": "code",
   "execution_count": 69,
   "id": "60a1a3c2",
   "metadata": {},
   "outputs": [
    {
     "name": "stdout",
     "output_type": "stream",
     "text": [
      "34.05196182396607\n"
     ]
    }
   ],
   "source": [
    "mean_age = user.age.mean()\n",
    "print(mean_age)"
   ]
  },
  {
   "cell_type": "markdown",
   "id": "7ca8f27c",
   "metadata": {},
   "source": [
    "### What is the age with least occurrence?"
   ]
  },
  {
   "cell_type": "code",
   "execution_count": 77,
   "id": "2f3ef1a3",
   "metadata": {},
   "outputs": [
    {
     "name": "stdout",
     "output_type": "stream",
     "text": [
      "Age(s) with the least occurrence: [7, 66, 11, 10, 73]\n"
     ]
    }
   ],
   "source": [
    "age_counts = user.age.value_counts()\n",
    "min_occurrence = age_counts.min()\n",
    "ages_least_occurrence = age_counts[age_counts == min_occurrence].index.tolist()\n",
    "\n",
    "print(ages_least_occurrence)"
   ]
  }
 ],
 "metadata": {
  "kernelspec": {
   "display_name": "Python 3 (ipykernel)",
   "language": "python",
   "name": "python3"
  },
  "language_info": {
   "codemirror_mode": {
    "name": "ipython",
    "version": 3
   },
   "file_extension": ".py",
   "mimetype": "text/x-python",
   "name": "python",
   "nbconvert_exporter": "python",
   "pygments_lexer": "ipython3",
   "version": "3.11.3"
  }
 },
 "nbformat": 4,
 "nbformat_minor": 5
}
