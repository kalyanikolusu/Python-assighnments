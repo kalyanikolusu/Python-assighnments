{
  "cells": [
    {
      "cell_type": "code",
      "execution_count": null,
      "metadata": {},
      "outputs": [],
      "source": [
        "#Q1. Write a program to find all pairs of an integer array whose sum is equal to a given number?"
      ]
    },
    {
      "cell_type": "code",
      "execution_count": 4,
      "metadata": {
        "colab": {
          "base_uri": "https://localhost:8080/"
        },
        "id": "GlVy5Ljy2kau",
        "outputId": "96c09196-5f77-4598-d827-e95fba41cddb"
      },
      "outputs": [
        {
          "data": {
            "text/plain": [
              "'def find(array, len, summ):\\n    print(\"Pairs whose sum is : \", summ)\\n    for i in range(len):\\n        for j in range(i, len):\\n            if (array[i] + array[j]) == summ:\\n                print(array[i], array[j])\\n\\n\\narray = [5, 2, 3, 4, 1, 6, 7]\\n\\n# Take sum as input from user\\nsumm = 7\\n\\n# print array\\nprint(\"Array= \", array)\\n\\n# call function find\\nfind(array, len(array), summ)'"
            ]
          },
          "execution_count": 4,
          "metadata": {},
          "output_type": "execute_result"
        }
      ],
      "source": [
        "def find(array, len, summ):\n",
        "    print(\"Pairs whose sum is : \", summ)\n",
        "    for i in range(len):\n",
        "        for j in range(i, len):\n",
        "            if (array[i] + array[j]) == summ:\n",
        "                print(array[i], array[j])\n",
        "\n",
        "\n",
        "array = [5, 2, 3, 4, 1, 6, 7]\n",
        "\n",
        "# Take sum as input from user\n",
        "summ = 7\n",
        "\n",
        "# print array\n",
        "print(\"Array= \", array)\n",
        "\n",
        "# call function find\n",
        "find(array, len(array), summ)"
      ]
    },
    {
      "cell_type": "code",
      "execution_count": 5,
      "metadata": {},
      "outputs": [],
      "source": [
        "#2.Q2. Write a program to reverse an array in place? In place means you cannot create a new array. You have to update the original array."
      ]
    },
    {
      "cell_type": "code",
      "execution_count": 6,
      "metadata": {},
      "outputs": [
        {
          "name": "stdout",
          "output_type": "stream",
          "text": [
            "[1, 2, 3, 4, 5, 6]\n",
            "Reversed list is\n",
            "[6, 5, 4, 3, 2, 1]\n"
          ]
        }
      ],
      "source": [
        "def reverseList(A, start, end):\n",
        "    while start < end:\n",
        "        A[start], A[end] = A[end], A[start]\n",
        "        start += 1\n",
        "        end -= 1\n",
        "A = [1, 2, 3, 4, 5, 6]\n",
        "print(A)\n",
        "reverseList(A, 0, 5)\n",
        "print(\"Reversed list is\")\n",
        "print(A)\n"
      ]
    },
    {
      "cell_type": "code",
      "execution_count": null,
      "metadata": {},
      "outputs": [],
      "source": [
        "#Q3. Write a program to check if two strings are a rotation of each other?"
      ]
    },
    {
      "cell_type": "code",
      "execution_count": 10,
      "metadata": {},
      "outputs": [
        {
          "name": "stdout",
          "output_type": "stream",
          "text": [
            "Strings are rotations of each other\n"
          ]
        }
      ],
      "source": [
        "def areRotations(string1, string2):\n",
        "    size1 = len(string1)\n",
        "    size2 = len(string2)\n",
        "    temp = ''\n",
        " \n",
        "    # Check if sizes of two strings are same\n",
        "    if size1 != size2:\n",
        "        return 0\n",
        " \n",
        "    # Create a temp string with value str1.str1\n",
        "    temp = string1 + string1\n",
        " \n",
        "    # Now check if str2 is a substring of temp\n",
        "    # string.count returns the number of occurrences of\n",
        "    # the second string in temp\n",
        "    if (temp.count(string2) > 0):\n",
        "        return 1\n",
        "    else:\n",
        "        return 0\n",
        " \n",
        " \n",
        "\n",
        "if __name__ == \"__main__\":\n",
        "    string1 = \"AACD\"\n",
        "    string2 = \"ACDA\"\n",
        " \n",
        "    # Function call\n",
        "    if areRotations(string1, string2):\n",
        "        print(\"Strings are rotations of each other\")\n",
        "    else:\n",
        "        print(\"Strings are not rotations of each other\")\n",
        " "
      ]
    },
    {
      "cell_type": "code",
      "execution_count": null,
      "metadata": {},
      "outputs": [],
      "source": [
        "#Q4. Write a program to print the first non-repeated character from a string?"
      ]
    },
    {
      "cell_type": "code",
      "execution_count": 14,
      "metadata": {},
      "outputs": [
        {
          "name": "stdout",
          "output_type": "stream",
          "text": [
            "First Non-Repeating Character =  h\n"
          ]
        }
      ],
      "source": [
        "def RepeatingFunc(myStr):\n",
        "    char_order = []\n",
        "    counts = {}\n",
        "\n",
        "    for c in myStr:\n",
        "        if c in counts:\n",
        "            counts[c] += 1\n",
        "         \n",
        "        else:\n",
        "            counts[c]=1\n",
        "            char_order.append(c)\n",
        "    for c in char_order:\n",
        "        if counts[c]==1:\n",
        "            return c\n",
        "    return none       \n",
        "print(\"First Non-Repeating Character = \",RepeatingFunc('thisisit'))"
      ]
    },
    {
      "cell_type": "code",
      "execution_count": 15,
      "metadata": {},
      "outputs": [
        {
          "name": "stdout",
          "output_type": "stream",
          "text": [
            "Move disk 1 from peg  A  to peg B\n",
            "Move disk 2  from peg  A  to peg C\n",
            "Move disk 1 from peg B  to peg C\n",
            "Move disk 3  from peg  A  to peg B\n",
            "Move disk 1 from peg C  to peg  A\n",
            "Move disk 2  from peg C  to peg B\n",
            "Move disk 1 from peg  A  to peg B\n"
          ]
        }
      ],
      "source": [
        "def tower_of_hanoi(n, source, destination, helper):\n",
        "    if n==1:\n",
        "        print (\"Move disk 1 from peg\", source,\" to peg\", destination)\n",
        "        return\n",
        "    tower_of_hanoi(n-1, source, helper, destination)\n",
        "    print (\"Move disk\",n,\" from peg\", source,\" to peg\", destination)\n",
        "    tower_of_hanoi(n-1, helper, destination, source)\n",
        "# n = number of disks\n",
        "n = 3\n",
        "tower_of_hanoi(n,' A','B','C')"
      ]
    },
    {
      "cell_type": "code",
      "execution_count": null,
      "metadata": {},
      "outputs": [],
      "source": [
        "#Q5. Read about the Tower of Hanoi algorithm. Write a program to implement it."
      ]
    },
    {
      "cell_type": "code",
      "execution_count": null,
      "metadata": {},
      "outputs": [],
      "source": [
        "#Tower of hanoi is a mathemetical puzzle comprising three rods and numerous disks placed oe over the other.It is also known as the tower of lucas..this puzzle has three rods nd a vairiabele numberd of stacked disks.\n",
        "#those rods are disgned as cyclic towers.so ,the large parameter are stacked on the bottom,and the smallest disks are stacked on top.\n",
        "#step1: start the program\n",
        "#step2: Input number of disks\n",
        "#step3: Declare a function which takes the number of disks .starting disks,auxilary disk and final disk as argument and recursively calls itself twice.\n",
        "#step4: call the function\n",
        "#step5: end the program    "
      ]
    },
    {
      "cell_type": "code",
      "execution_count": 18,
      "metadata": {},
      "outputs": [
        {
          "name": "stdout",
          "output_type": "stream",
          "text": [
            "Move disk 1 from peg A  to peg B\n",
            "Move disk 2  from peg A  to peg C\n",
            "Move disk 1 from peg B  to peg C\n",
            "Move disk 3  from peg A  to peg B\n",
            "Move disk 1 from peg C  to peg A\n",
            "Move disk 2  from peg C  to peg B\n",
            "Move disk 1 from peg A  to peg B\n"
          ]
        }
      ],
      "source": [
        "def tower_of_hanoi(n, source, destination, helper):\n",
        "    if n==1:\n",
        "        print (\"Move disk 1 from peg\", source,\" to peg\", destination)\n",
        "        return\n",
        "    tower_of_hanoi(n-1, source, helper, destination)\n",
        "    print (\"Move disk\",n,\" from peg\", source,\" to peg\", destination)\n",
        "    tower_of_hanoi(n-1, helper, destination, source)\n",
        "# n = number of disks\n",
        "n = 3\n",
        "tower_of_hanoi(n,'A','B','C')"
      ]
    },
    {
      "cell_type": "code",
      "execution_count": 19,
      "metadata": {},
      "outputs": [],
      "source": [
        "#Q6. Read about infix, prefix, and postfix expressions. Write a program to convert postfix to prefix expression.#"
      ]
    },
    {
      "cell_type": "code",
      "execution_count": 20,
      "metadata": {},
      "outputs": [
        {
          "name": "stdout",
          "output_type": "stream",
          "text": [
            "Prefix :  +AB-CD\n"
          ]
        }
      ],
      "source": [
        "def isOperator(x):\n",
        " \n",
        "    if x == \"+\":\n",
        "        return True\n",
        " \n",
        "    if x == \"-\":\n",
        "        return True\n",
        " \n",
        "    if x == \"/\":\n",
        "        return True\n",
        " \n",
        "    if x == \"*\":\n",
        "        return True\n",
        " \n",
        "    return False\n",
        " \n",
        "# Convert postfix to Prefix expression\n",
        " \n",
        " \n",
        "def postToPre(post_exp):\n",
        " \n",
        "    s = []\n",
        " \n",
        "    # length of expression\n",
        "    length = len(post_exp)\n",
        " \n",
        "    # reading from right to left\n",
        "    for i in range(length):\n",
        " \n",
        "        # check if symbol is operator\n",
        "        if (isOperator(post_exp[i])):\n",
        " \n",
        "            # pop two operands from stack\n",
        "            op1 = s[-1]\n",
        "            s.pop()\n",
        "            op2 = s[-1]\n",
        "            s.pop()\n",
        " \n",
        "            # concat the operands and operator\n",
        "            temp = post_exp[i] + op2 + op1\n",
        " \n",
        "            # Push string temp back to stack\n",
        "            s.append(temp)\n",
        " \n",
        "        # if symbol is an operand\n",
        "        else:\n",
        " \n",
        "            # push the operand to the stack\n",
        "            s.append(post_exp[i])\n",
        " \n",
        "    \n",
        "    ans = \"\"\n",
        "    for i in s:\n",
        "        ans += i\n",
        "    return ans\n",
        " \n",
        " \n",
        "# Driver Code\n",
        "if __name__ == \"__main__\":\n",
        " \n",
        "    post_exp = \"AB+CD-\"\n",
        "     \n",
        "    # Function call\n",
        "    print(\"Prefix : \", postToPre(post_exp))"
      ]
    },
    {
      "cell_type": "code",
      "execution_count": null,
      "metadata": {},
      "outputs": [],
      "source": [
        "#Q7. Write a program to convert prefix expression to infix expression."
      ]
    },
    {
      "cell_type": "code",
      "execution_count": 21,
      "metadata": {},
      "outputs": [
        {
          "name": "stdout",
          "output_type": "stream",
          "text": [
            "((A-(B/C))*((A/K)-L))\n"
          ]
        }
      ],
      "source": [
        "def prefixToInfix(prefix):\n",
        "    stack = []\n",
        "     \n",
        "    # read prefix in reverse order\n",
        "    i = len(prefix) - 1\n",
        "    while i >= 0:\n",
        "        if not isOperator(prefix[i]):\n",
        "             \n",
        "            # symbol is operand\n",
        "            stack.append(prefix[i])\n",
        "            i -= 1\n",
        "        else:\n",
        "           \n",
        "            # symbol is operator\n",
        "            str = \"(\" + stack.pop() + prefix[i] + stack.pop() + \")\"\n",
        "            stack.append(str)\n",
        "            i -= 1\n",
        "     \n",
        "    return stack.pop()\n",
        " \n",
        "def isOperator(c):\n",
        "    if c == \"*\" or c == \"+\" or c == \"-\" or c == \"/\" or c == \"^\" or c == \"(\" or c == \")\":\n",
        "        return True\n",
        "    else:\n",
        "        return False\n",
        " \n",
        "# Driver code\n",
        "if __name__==\"__main__\":\n",
        "    str = \"*-A/BC-/AKL\"\n",
        "    print(prefixToInfix(str))"
      ]
    },
    {
      "cell_type": "code",
      "execution_count": null,
      "metadata": {},
      "outputs": [],
      "source": [
        "#Q8. Write a program to check if all the brackets are closed in a given code snippet."
      ]
    },
    {
      "cell_type": "code",
      "execution_count": 23,
      "metadata": {},
      "outputs": [
        {
          "name": "stdout",
          "output_type": "stream",
          "text": [
            "Given string is balanced: True\n"
          ]
        }
      ],
      "source": [
        "def isbalanced(s):\n",
        "    while(len(s)!=0):\n",
        "        s=s.replace('()','')\n",
        "        s=s.replace('[]','')\n",
        "        s=s.replace('{}','')\n",
        "    if(len(s)==0):\n",
        "        return True\n",
        "    else:\n",
        "        return False\n",
        "s=input(\"Enter a string of brackets:\")\n",
        "print(\"Given string is balanced:\",isbalanced(s))"
      ]
    },
    {
      "cell_type": "code",
      "execution_count": null,
      "metadata": {},
      "outputs": [],
      "source": [
        "#Q9. Write a program to reverse a stack."
      ]
    },
    {
      "cell_type": "code",
      "execution_count": 24,
      "metadata": {},
      "outputs": [
        {
          "name": "stdout",
          "output_type": "stream",
          "text": [
            "The stack:\n",
            "5\n",
            "1\n",
            "3\n",
            "7\n",
            "After reversing:\n",
            "7\n",
            "3\n",
            "1\n",
            "5\n"
          ]
        }
      ],
      "source": [
        "class Stack:\n",
        "    def __init__(self):\n",
        "        self.items = []\n",
        " \n",
        "    def is_empty(self):\n",
        "        return self.items == []\n",
        " \n",
        "    def push(self, data):\n",
        "        self.items.append(data)\n",
        " \n",
        "    def pop(self):\n",
        "        return self.items.pop()\n",
        " \n",
        "    def display(self):\n",
        "        for data in reversed(self.items):\n",
        "            print(data)\n",
        " \n",
        "def insert_at_bottom(s, data):\n",
        "    if s.is_empty():\n",
        "        s.push(data)\n",
        "    else:\n",
        "        popped = s.pop()\n",
        "        insert_at_bottom(s, data)\n",
        "        s.push(popped)\n",
        " \n",
        " \n",
        "def reverse_stack(s):\n",
        "    if not s.is_empty():\n",
        "        popped = s.pop()\n",
        "        reverse_stack(s)\n",
        "        insert_at_bottom(s, popped)\n",
        " \n",
        " \n",
        "s = Stack()\n",
        "data_list = input('Please enter the elements to push: ').split()\n",
        "for data in data_list:\n",
        "    s.push(int(data))\n",
        " \n",
        "print('The stack:')\n",
        "s.display()\n",
        "reverse_stack(s)\n",
        "print('After reversing:')\n",
        "s.display()"
      ]
    },
    {
      "cell_type": "code",
      "execution_count": null,
      "metadata": {},
      "outputs": [],
      "source": [
        "#Q10. Write a program to find the smallest number using a stack."
      ]
    },
    {
      "cell_type": "code",
      "execution_count": 26,
      "metadata": {},
      "outputs": [
        {
          "name": "stdout",
          "output_type": "stream",
          "text": [
            "-3\n",
            "0\n",
            "-2\n"
          ]
        }
      ],
      "source": [
        "class MinStack(object):\n",
        "   min=float('inf')\n",
        "   def __init__(self):\n",
        "      self.min=float('inf')\n",
        "      self.stack = []\n",
        "   def push(self, x):\n",
        "      if x<=self.min:\n",
        "         self.stack.append(self.min)\n",
        "         self.min = x\n",
        "      self.stack.append(x)\n",
        "   def pop(self):\n",
        "      t = self.stack[-1]\n",
        "      self.stack.pop()\n",
        "      if self.min == t:\n",
        "         self.min = self.stack[-1]\n",
        "         self.stack.pop()\n",
        "   def top(self):\n",
        "      return self.stack[-1]\n",
        "   def getMin(self):\n",
        "      return self.min\n",
        "m = MinStack()\n",
        "m.push(-2)\n",
        "m.push(0)\n",
        "m.push(-3)\n",
        "print(m.getMin())\n",
        "m.pop()\n",
        "print(m.top())\n",
        "print(m.getMin())"
      ]
    }
  ],
  "metadata": {
    "colab": {
      "provenance": []
    },
    "kernelspec": {
      "display_name": "Python 3",
      "language": "python",
      "name": "python3"
    },
    "language_info": {
      "codemirror_mode": {
        "name": "ipython",
        "version": 3
      },
      "file_extension": ".py",
      "mimetype": "text/x-python",
      "name": "python",
      "nbconvert_exporter": "python",
      "pygments_lexer": "ipython3",
      "version": "3.11.2"
    },
    "vscode": {
      "interpreter": {
        "hash": "5af3249553f97f14f18b0c60c927a96fa3698ff9d60d71aaddfc1ffad47eb090"
      }
    }
  },
  "nbformat": 4,
  "nbformat_minor": 0
}
